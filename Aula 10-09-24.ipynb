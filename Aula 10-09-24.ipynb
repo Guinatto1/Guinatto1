{
  "nbformat": 4,
  "nbformat_minor": 0,
  "metadata": {
    "colab": {
      "provenance": [],
      "authorship_tag": "ABX9TyM1grD7sc6+m4ivlNUZtwY4",
      "include_colab_link": true
    },
    "kernelspec": {
      "name": "python3",
      "display_name": "Python 3"
    },
    "language_info": {
      "name": "python"
    }
  },
  "cells": [
    {
      "cell_type": "markdown",
      "metadata": {
        "id": "view-in-github",
        "colab_type": "text"
      },
      "source": [
        "<a href=\"https://colab.research.google.com/github/Guinatto1/Guinatto1/blob/main/Aula%2010-09-24.ipynb\" target=\"_parent\"><img src=\"https://colab.research.google.com/assets/colab-badge.svg\" alt=\"Open In Colab\"/></a>"
      ]
    },
    {
      "cell_type": "markdown",
      "source": [
        "#exemplo 3\n"
      ],
      "metadata": {
        "id": "1Mk3d5EALk05"
      }
    },
    {
      "cell_type": "code",
      "source": [],
      "metadata": {
        "id": "P7jnM0IuQba4"
      },
      "execution_count": null,
      "outputs": []
    },
    {
      "cell_type": "code",
      "execution_count": 9,
      "metadata": {
        "colab": {
          "base_uri": "https://localhost:8080/"
        },
        "id": "DmB2XhBGJE5v",
        "outputId": "5091b41f-b521-439a-cc2f-343a49be61e5"
      },
      "outputs": [
        {
          "output_type": "stream",
          "name": "stdout",
          "text": [
            "digite um numero inteiro50\n",
            " o numero 50 e par.\n"
          ]
        }
      ],
      "source": [
        "numero = int(input(\"digite um numero inteiro\"))\n",
        "if numero% 2 == 0:\n",
        " print(f\" o numero {numero} e par.\")\n",
        "else:\n",
        " print(f\"o numero {numero} e impar.\")"
      ]
    },
    {
      "cell_type": "code",
      "source": [
        "import math  # Importa a biblioteca matemática para usar a função de raiz quadrada.\n",
        "\n",
        "# Solicita ao usuário que insira um número\n",
        "numero = float(input(\"Digite um número: \"))  # Lê o número digitado pelo usuário e converte para float.\n",
        "\n",
        "# Verifica se o número é maior ou igual a zero\n",
        "if numero >= 0:\n",
        "    raiz_quadrada = math.sqrt(numero)  # Calcula a raiz quadrada do número.\n",
        "    print(f\"A raiz quadrada de {numero} é {raiz_quadrada:.2f}.\")  # Imprime o resultado formatado com duas casas decimais.\n",
        "else:\n",
        "    print(\"Não existe raiz real para este número!\")  # Imprime uma mensagem de erro caso o número seja negativo.\n",
        ""
      ],
      "metadata": {
        "colab": {
          "base_uri": "https://localhost:8080/"
        },
        "id": "b0GLGdK5SxMG",
        "outputId": "319f5a85-cab0-4f75-e411-4c2e66ed5669"
      },
      "execution_count": 13,
      "outputs": [
        {
          "output_type": "stream",
          "name": "stdout",
          "text": [
            "Digite um número: 50\n",
            "A raiz quadrada de 50.0 é 7.07.\n"
          ]
        }
      ]
    },
    {
      "cell_type": "code",
      "source": [],
      "metadata": {
        "id": "UgWqWHYyS5sf"
      },
      "execution_count": null,
      "outputs": []
    }
  ]
}