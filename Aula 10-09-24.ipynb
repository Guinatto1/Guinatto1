{
  "nbformat": 4,
  "nbformat_minor": 0,
  "metadata": {
    "colab": {
      "provenance": [],
      "authorship_tag": "ABX9TyNTrGAcK13dNRb5wGRHe6ge",
      "include_colab_link": true
    },
    "kernelspec": {
      "name": "python3",
      "display_name": "Python 3"
    },
    "language_info": {
      "name": "python"
    }
  },
  "cells": [
    {
      "cell_type": "markdown",
      "metadata": {
        "id": "view-in-github",
        "colab_type": "text"
      },
      "source": [
        "<a href=\"https://colab.research.google.com/github/Guinatto1/Guinatto1/blob/main/Aula%2010-09-24.ipynb\" target=\"_parent\"><img src=\"https://colab.research.google.com/assets/colab-badge.svg\" alt=\"Open In Colab\"/></a>"
      ]
    },
    {
      "cell_type": "markdown",
      "source": [
        "#exemplo 4\n"
      ],
      "metadata": {
        "id": "1Mk3d5EALk05"
      }
    },
    {
      "cell_type": "code",
      "execution_count": 9,
      "metadata": {
        "colab": {
          "base_uri": "https://localhost:8080/"
        },
        "id": "DmB2XhBGJE5v",
        "outputId": "5091b41f-b521-439a-cc2f-343a49be61e5"
      },
      "outputs": [
        {
          "output_type": "stream",
          "name": "stdout",
          "text": [
            "digite um numero inteiro50\n",
            " o numero 50 e par.\n"
          ]
        }
      ],
      "source": [
        "numero = int(input(\"digite um numero inteiro\"))\n",
        "if numero% 2 == 0:\n",
        " print(f\" o numero {numero} e par.\")\n",
        "else:\n",
        " print(f\"o numero {numero} e impar.\")"
      ]
    }
  ]
}