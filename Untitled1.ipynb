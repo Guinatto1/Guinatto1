{
  "nbformat": 4,
  "nbformat_minor": 0,
  "metadata": {
    "colab": {
      "provenance": [],
      "authorship_tag": "ABX9TyMXz1r72EQ4nU4FnKMCjpGW",
      "include_colab_link": true
    },
    "kernelspec": {
      "name": "python3",
      "display_name": "Python 3"
    },
    "language_info": {
      "name": "python"
    }
  },
  "cells": [
    {
      "cell_type": "markdown",
      "metadata": {
        "id": "view-in-github",
        "colab_type": "text"
      },
      "source": [
        "<a href=\"https://colab.research.google.com/github/Guinatto1/Guinatto1/blob/main/Untitled1.ipynb\" target=\"_parent\"><img src=\"https://colab.research.google.com/assets/colab-badge.svg\" alt=\"Open In Colab\"/></a>"
      ]
    },
    {
      "cell_type": "markdown",
      "source": [],
      "metadata": {
        "id": "d9LNw2yBSTbO"
      }
    },
    {
      "cell_type": "markdown",
      "source": [
        "#Repetição While\n",
        "\n"
      ],
      "metadata": {
        "id": "lb5-uikySRt-"
      }
    },
    {
      "cell_type": "code",
      "execution_count": 5,
      "metadata": {
        "colab": {
          "base_uri": "https://localhost:8080/"
        },
        "id": "Db45GYoeOOhd",
        "outputId": "f70ba072-2333-40a2-acb4-ae6bf08d631c"
      },
      "outputs": [
        {
          "output_type": "stream",
          "name": "stdout",
          "text": [
            "Deseja realizar a soma de 2 variáveis? (S/N): s\n",
            "Digite o valor da primeira variável: 25\n",
            "Digite o valor da segunda variável: 50\n",
            "A soma de 25.0 e 50.0 é: 75.00\n",
            "Por favor, digite apenas números.\n",
            "Deseja realizar a soma de 2 variáveis? (S/N): n\n",
            "Operação finalizada.\n"
          ]
        }
      ],
      "source": [
        "while True:\n",
        "    resposta = input(\"Deseja realizar a soma de 2 variáveis? (S/N): \").strip().upper() # indented this line\n",
        "    if resposta == 'S':\n",
        "            var1 = float(input(\"Digite o valor da primeira variável: \"))\n",
        "            var2 = float(input(\"Digite o valor da segunda variável: \"))\n",
        "            soma = var1 + var2\n",
        "            print(f\"A soma de {var1} e {var2} é: {soma:.2f}\")\n",
        "            print(\"Por favor, digite apenas números.\")\n",
        "    elif resposta == 'N':\n",
        "        print(\"Operação finalizada.\")\n",
        "        break\n",
        "    else:\n",
        "        print(\"Resposta inválida. Por favor, digite 'S' para sim ou 'N' para não.\")"
      ]
    },
    {
      "cell_type": "markdown",
      "source": [
        "#"
      ],
      "metadata": {
        "id": "I-3LM8OgVSOP"
      }
    },
    {
      "cell_type": "code",
      "source": [
        "while True:\n",
        "   resposta = input(\"deseja realizar uma soma (sim/não):\").lower()\n",
        "if resposta == \"sim\":\n",
        "  num1 = float(input (\"digite o primeiro numero:\"))\n",
        "  num2 = float (input(\"digite o segundo numero:\"))\n",
        "  soma = num1 + num2 # calculo da soma\n",
        "  print(\"a soma é\", soma)\n",
        "else:\n",
        "  print (\"encerrando programa.\")\n"
      ],
      "metadata": {
        "id": "fgFsvGd8SjVX"
      },
      "execution_count": null,
      "outputs": []
    }
  ]
}